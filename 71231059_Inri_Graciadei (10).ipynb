{
  "nbformat": 4,
  "nbformat_minor": 0,
  "metadata": {
    "colab": {
      "provenance": []
    },
    "kernelspec": {
      "name": "python3",
      "display_name": "Python 3"
    },
    "language_info": {
      "name": "python"
    }
  },
  "cells": [
    {
      "cell_type": "code",
      "execution_count": null,
      "metadata": {
        "id": "6m47GAMTmnpe"
      },
      "outputs": [],
      "source": [
        "Soal 1"
      ]
    },
    {
      "cell_type": "code",
      "source": [
        "n = int(input('Masukkan n: '))\n",
        "\n",
        "data_aplikasi = {}\n",
        "for i in range(n):\n",
        "    data_kategori = input('Masukkan kategori: ')\n",
        "    print('Masukkan 5 aplikasi pada kategori', data_kategori)\n",
        "\n",
        "    aplikasi = []\n",
        "    for j in range(5):\n",
        "        nama_aplikasi = input('Nama aplikasi: ')\n",
        "        aplikasi.append(nama_aplikasi)\n",
        "\n",
        "    data_aplikasi[data_kategori] = aplikasi\n",
        "print(data_aplikasi)\n",
        "\n",
        "list_aplikasi = []\n",
        "for aplikasi in data_aplikasi.values():\n",
        "    list_aplikasi.append(set(aplikasi))\n",
        "print(list_aplikasi)\n",
        "\n",
        "hasil = list_aplikasi[0]\n",
        "for i in range(1, len(list_aplikasi)):\n",
        "    hasil = hasil.intersection(list_aplikasi[i])\n",
        "print(hasil)\n",
        "print()\n",
        "\n",
        "#Untuk aplikasi yang muncul hanya di 1 kategori\n",
        "hasil_kedua = list_aplikasi[0]\n",
        "for i in range(1, len(list_aplikasi)):\n",
        "    hasil_kedua = hasil_kedua.symmetric_difference(list_aplikasi[i])\n",
        "print('Aplikasi yang muncul hanya di 1 kategori: ', hasil_kedua)\n",
        "print()\n",
        "\n",
        "#n>2, aplikasi yang muncul tepat di 2 kategori\n",
        "banyaknya = dict()\n",
        "for i in list_aplikasi:\n",
        "    for j in i:\n",
        "        if j not in banyaknya:\n",
        "            banyaknya[j] = 1\n",
        "        else:\n",
        "            banyaknya[j] += 1\n",
        "\n",
        "hasil_ketiga = set()\n",
        "for i in banyaknya.keys():\n",
        "    if banyaknya[i] == 2:\n",
        "        hasil_ketiga.add(i)\n",
        "print('Aplikasi yang muncul tepat di 2 kategori: ', hasil_ketiga)"
      ],
      "metadata": {
        "colab": {
          "base_uri": "https://localhost:8080/"
        },
        "id": "k9Bkq1jVmqSU",
        "outputId": "fe581adb-eee8-4d41-9cbb-cfc2ba384fc1"
      },
      "execution_count": 2,
      "outputs": [
        {
          "output_type": "stream",
          "name": "stdout",
          "text": [
            "Masukkan n: 2\n",
            "Masukkan kategori: Utilities\n",
            "Masukkan 5 aplikasi pada kategori Utilities\n",
            "Nama aplikasi: Youtube\n",
            "Nama aplikasi: Spotify\n",
            "Nama aplikasi: Calculator\n",
            "Nama aplikasi: WPS Office\n",
            "Nama aplikasi: Netflix\n",
            "Masukkan kategori: Entertainment\n",
            "Masukkan 5 aplikasi pada kategori Entertainment\n",
            "Nama aplikasi: Vidio\n",
            "Nama aplikasi: Youtube\n",
            "Nama aplikasi: Netflix\n",
            "Nama aplikasi: Spotify\n",
            "Nama aplikasi: Tiktok\n",
            "{'Utilities': ['Youtube', 'Spotify', 'Calculator', 'WPS Office', 'Netflix'], 'Entertainment': ['Vidio', 'Youtube', 'Netflix', 'Spotify', 'Tiktok']}\n",
            "[{'Calculator', 'WPS Office', 'Youtube', 'Spotify', 'Netflix'}, {'Tiktok', 'Youtube', 'Spotify', 'Netflix', 'Vidio'}]\n",
            "{'Spotify', 'Youtube', 'Netflix'}\n",
            "\n",
            "Aplikasi yang muncul hanya di 1 kategori:  {'Calculator', 'Tiktok', 'WPS Office', 'Vidio'}\n",
            "\n",
            "Aplikasi yang muncul tepat di 2 kategori:  {'Spotify', 'Youtube', 'Netflix'}\n"
          ]
        }
      ]
    },
    {
      "cell_type": "markdown",
      "source": [
        "Soal 2"
      ],
      "metadata": {
        "id": "ipwr5puYoozF"
      }
    },
    {
      "cell_type": "code",
      "source": [
        "def bentuk_list_ke_bentuk_set(bentuk_list):\n",
        "    return set(bentuk_list)\n",
        "isi_list = list(input('Masukkan isi list: '))\n",
        "print('Isi list =', isi_list)\n",
        "print(('Setelah diubah ke set =', set(isi_list)))\n",
        "\n",
        "def bentuk_set_ke_bentuk_list(bentuk_set):\n",
        "    return list(bentuk_set)\n",
        "isi_set = set(input('Masukkan isi set: '))\n",
        "print('Isi set =', isi_set)\n",
        "print(('Setelah diubah ke list =', list(isi_set)))\n",
        "\n",
        "def bentuk_tuple_ke_bentuk_set(bentuk_tuple):\n",
        "    return set(bentuk_tuple)\n",
        "isi_tuple = tuple(input('Masukkan isi tuple: '))\n",
        "print('Isi tuple =', isi_tuple)\n",
        "print(('Setelah diubah ke set =', set(isi_tuple)))\n",
        "\n",
        "def bentuk_set_ke_bentuk_tuple(bentuk_set):\n",
        "    return tuple(bentuk_set)\n",
        "isi_set = set(input('Masukkan isi set: '))\n",
        "print('Isi set =', isi_set)\n",
        "print(('Setelah diubah ke tuple =', tuple(isi_set)))"
      ],
      "metadata": {
        "colab": {
          "base_uri": "https://localhost:8080/"
        },
        "id": "UlWnTArPopyA",
        "outputId": "958be5f3-a2dd-41d8-c21a-e915cdaa17b0"
      },
      "execution_count": 3,
      "outputs": [
        {
          "output_type": "stream",
          "name": "stdout",
          "text": [
            "Masukkan isi list: 13579\n",
            "Isi list = ['1', '3', '5', '7', '9']\n",
            "('Setelah diubah ke set =', {'3', '1', '5', '7', '9'})\n",
            "Masukkan isi set: 224466881012\n",
            "Isi set = {'6', '4', '0', '1', '8', '2'}\n",
            "('Setelah diubah ke list =', ['6', '4', '0', '1', '8', '2'])\n",
            "Masukkan isi tuple: 22090420\n",
            "Isi tuple = ('2', '2', '0', '9', '0', '4', '2', '0')\n",
            "('Setelah diubah ke set =', {'4', '9', '0', '2'})\n",
            "Masukkan isi set: 05110420\n",
            "Isi set = {'5', '4', '0', '1', '2'}\n",
            "('Setelah diubah ke tuple =', ('5', '4', '0', '1', '2'))\n"
          ]
        }
      ]
    },
    {
      "cell_type": "markdown",
      "source": [
        "Soal 3"
      ],
      "metadata": {
        "id": "U5cpYt1npdY4"
      }
    },
    {
      "cell_type": "code",
      "source": [
        "a = input('Masukkan file pertama: ')\n",
        "b = input('Masukkan file kedua: ')\n",
        "\n",
        "try:\n",
        "    file_pertama = open(a)\n",
        "except:\n",
        "    print('File tidak bisa dibuka: ', a)\n",
        "    exit()\n",
        "\n",
        "try:\n",
        "    file_kedua = open(b)\n",
        "except:\n",
        "    print('File tidak bisa dibuka: ', b)\n",
        "    exit()\n",
        "\n",
        "list_kata_pertama = []\n",
        "for i in file_pertama:\n",
        "    i = i.strip()\n",
        "    i = i.split()\n",
        "    for j in i:\n",
        "        j = j.lower()\n",
        "        list_kata_pertama.append(j)\n",
        "\n",
        "list_kata_kedua = []\n",
        "for i in file_kedua:\n",
        "    i = i.strip()\n",
        "    i = i.split()\n",
        "    for j in i:\n",
        "        j = j.lower()\n",
        "        list_kata_kedua.append(j)\n",
        "\n",
        "kata_sama = set(list_kata_pertama) & set(list_kata_kedua)\n",
        "print('Kata yang sama adalah: ')\n",
        "for i in kata_sama:\n",
        "    print(i)\n",
        "\n",
        "file_pertama.close()\n",
        "file_kedua.close()"
      ],
      "metadata": {
        "id": "LBYS02xlpek1"
      },
      "execution_count": null,
      "outputs": []
    }
  ]
}